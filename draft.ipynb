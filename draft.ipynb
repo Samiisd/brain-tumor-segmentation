{
 "cells": [
  {
   "cell_type": "code",
   "execution_count": 1,
   "metadata": {},
   "outputs": [],
   "source": [
    "from itk import *\n",
    "from vtk import *"
   ]
  },
  {
   "cell_type": "code",
   "execution_count": 9,
   "metadata": {},
   "outputs": [
    {
     "data": {
      "text/plain": [
       "2592"
      ]
     },
     "execution_count": 9,
     "metadata": {},
     "output_type": "execute_result"
    }
   ],
   "source": [
    "# im = imread(\"./data/BRATS_HG0015_T1C.mha\")\n",
    "# im = GetArrayFromImage(im)\n",
    "# im.max()"
   ]
  },
  {
   "cell_type": "code",
   "execution_count": 112,
   "metadata": {},
   "outputs": [],
   "source": [
    "def _check_valid_arg(val, name, available):\n",
    "    if val not in available:\n",
    "        raise f\"{name}='{val}' is not a valid arg. Valid values are: {available}\"\n",
    "        \n",
    "def load_volume(reader, min_intensity=0, intensity_coeff=0.5, color=(1.,1.,1.), opacity_window=4096, render_with=\"gl\", interpolation=\"linear\"):\n",
    "    _check_valid_arg(render_with, \"render_with\", {'gl', 'gpu', 'cpu'})\n",
    "    _check_valid_arg(interpolation, \"interpolation\", {'linear', 'nearest'})\n",
    "    \n",
    "    reader.Update()\n",
    "\n",
    "    if render_with == \"gl\":\n",
    "        mapper = vtkOpenGLGPUVolumeRayCastMapper()\n",
    "    elif render_with == 'gpu':\n",
    "        mapper = vtkGPUVolumeRayCastMapper() \n",
    "    elif render_with == 'cpu':\n",
    "        mapper = vtkFixedPointVolumeRayCastMapper()\n",
    "    else:\n",
    "        raise \"unexpected\"\n",
    "        \n",
    "    mapper.SetInputConnection(reader.GetOutputPort())\n",
    "    mapper.SetSampleDistance(0.5)\n",
    "    mapper.SetBlendModeToMaximumIntensity()\n",
    "\n",
    "    data_min, data_max = reader.GetOutput().GetScalarRange()\n",
    "    \n",
    "    seg_min, seg_max = min_intensity, min_intensity + (1-intensity_coeff) * (data_max-min_intensity)\n",
    "    fct_color = vtkColorTransferFunction()\n",
    "    fct_color.AddRGBSegment(seg_min, *(0., 0., 0.),\n",
    "                            seg_max, *color)\n",
    "    \n",
    "    fct_opacity = vtkPiecewiseFunction()\n",
    "    fct_opacity.AddSegment(seg_min, 0.,\n",
    "                           seg_max, 1.)\n",
    "    \n",
    "    props = vtkVolumeProperty()\n",
    "    props.SetIndependentComponents(True)\n",
    "    props.SetColor(fct_color)\n",
    "    props.SetScalarOpacity(fct_opacity)\n",
    "\n",
    "    if interpolation == \"linear\":\n",
    "        props.SetInterpolationTypeToLinear()\n",
    "    elif interpolation == 'nearest':\n",
    "        props.SetInterpolationTypeToNearest()\n",
    "    else:\n",
    "        raise \"unexpected\"\n",
    "\n",
    "    volume = vtkVolume()\n",
    "    volume.SetMapper(mapper)\n",
    "    volume.SetProperty(props)\n",
    "    \n",
    "    return volume, props"
   ]
  },
  {
   "cell_type": "code",
   "execution_count": 111,
   "metadata": {},
   "outputs": [
    {
     "name": "stdout",
     "output_type": "stream",
     "text": [
      "1.46 µs ± 32.1 ns per loop (mean ± std. dev. of 7 runs, 1000000 loops each)\n"
     ]
    }
   ],
   "source": [
    "reader = vtkMetaImageReader()\n",
    "reader.SetFileName(\"./data/BRATS_HG0015_T1C.mha\")"
   ]
  },
  {
   "cell_type": "code",
   "execution_count": 115,
   "metadata": {},
   "outputs": [],
   "source": [
    "volume, _ = load_volume(reader, intensity_coeff=0.4)\n",
    "volume_red, _ = load_volume(reader, intensity_coeff=0.8, min_intensity=1000, color=[1,0,0])\n",
    "\n",
    "ren = vtkRenderer()\n",
    "ren.AddVolume(volume)\n",
    "ren.AddVolume(volume_red)\n",
    "\n",
    "renWin = vtkRenderWindow()\n",
    "renWin.AddRenderer(ren)\n",
    "\n",
    "iren = vtkRenderWindowInteractor()\n",
    "iren.SetRenderWindow(renWin)\n",
    "iren.Initialize()\n",
    "\n",
    "# iren.AddObserver('TimerEvent', cb.execute)\n",
    "# timerId = iren.CreateRepeatingTimer(100);\n",
    "\n",
    "renWin.Render()\n",
    "\n",
    "iren.Start()"
   ]
  },
  {
   "cell_type": "code",
   "execution_count": null,
   "metadata": {},
   "outputs": [],
   "source": []
  }
 ],
 "metadata": {
  "kernelspec": {
   "display_name": "itk",
   "language": "python",
   "name": "itk"
  },
  "language_info": {
   "codemirror_mode": {
    "name": "ipython",
    "version": 3
   },
   "file_extension": ".py",
   "mimetype": "text/x-python",
   "name": "python",
   "nbconvert_exporter": "python",
   "pygments_lexer": "ipython3",
   "version": "3.8.5"
  }
 },
 "nbformat": 4,
 "nbformat_minor": 4
}
