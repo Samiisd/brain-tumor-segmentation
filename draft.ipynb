{
 "cells": [
  {
   "cell_type": "code",
   "execution_count": 1,
   "metadata": {},
   "outputs": [],
   "source": [
    "from vtk import *\n",
    "import itk"
   ]
  },
  {
   "cell_type": "code",
   "execution_count": 2,
   "metadata": {},
   "outputs": [],
   "source": [
    "from ipywidgets import interact\n",
    "import matplotlib.pyplot as plt\n",
    "import numpy as np\n",
    "\n",
    "base_image = itk.ImageFileReader(FileName=\"./data/BRATS_HG0015_T1C.mha\")\n",
    "\n",
    "rescaled = itk.RescaleIntensityImageFilter.New(\n",
    "    Input=base_image,\n",
    "    OutputMinimum=0,\n",
    "    OutputMaximum=255\n",
    ")\n",
    "\n",
    "binary_im = itk.ThresholdImageFilter.New(\n",
    "    Input=rescaled,\n",
    "    Lower=102,\n",
    ")\n",
    "\n",
    "connected_components = itk.ConnectedComponentImageFilter.New(\n",
    "    Input=binary_im,\n",
    ")\n",
    "\n",
    "filtered_cc = itk.LabelShapeKeepNObjectsImageFilter.New(\n",
    "    Input=connected_components,\n",
    "    BackgroundValue=0,\n",
    "    NumberOfObjects=1,\n",
    "    Attribute=\"NumberOfPixels\"\n",
    ")\n",
    "\n",
    "mask = itk.NotImageFilter(Input=filtered_cc)\n",
    "mask = itk.NotImageFilter(Input=mask)\n",
    "\n",
    "converted = itk.CastImageFilter[itk.Image[itk.SS,3], itk.Image[itk.UC,3]].New(Input=mask)\n",
    "\n",
    "result_im = itk.RescaleIntensityImageFilter.New(\n",
    "    Input=converted,\n",
    "    OutputMinimum=0,\n",
    "    OutputMaximum=1,\n",
    ")\n",
    "\n",
    "writer = itk.ImageFileWriter.New(Input=result_im, FileName=\"./data/mask.mha\")\n",
    "writer.Update()\n",
    "\n",
    "array = itk.GetArrayFromImage(result_im)"
   ]
  },
  {
   "cell_type": "code",
   "execution_count": 3,
   "metadata": {},
   "outputs": [
    {
     "data": {
      "text/plain": [
       "(array([0, 1], dtype=uint8), array([6036216,   46344]))"
      ]
     },
     "execution_count": 3,
     "metadata": {},
     "output_type": "execute_result"
    }
   ],
   "source": [
    "np.unique(array, return_counts=True)"
   ]
  },
  {
   "cell_type": "code",
   "execution_count": 78,
   "metadata": {},
   "outputs": [],
   "source": [
    "from vtk import *\n",
    "import itk\n",
    "\n",
    "def _check_valid_arg(val, name, available):\n",
    "    if val not in available:\n",
    "        raise f\"{name}='{val}' is not a valid arg. Valid values are: {available}\"\n",
    "        \n",
    "def load_volume(reader, color=(1.,1.,1.), render_with=\"gl\", interpolation=\"linear\"):\n",
    "    _check_valid_arg(render_with, \"render_with\", {'gl', 'gpu', 'cpu'})\n",
    "    _check_valid_arg(interpolation, \"interpolation\", {'linear', 'nearest'})\n",
    "    \n",
    "    reader.Update()\n",
    "\n",
    "    if render_with == \"gl\":\n",
    "        mapper = vtkOpenGLGPUVolumeRayCastMapper()\n",
    "    elif render_with == 'gpu':\n",
    "        mapper = vtkGPUVolumeRayCastMapper() \n",
    "    elif render_with == 'cpu':\n",
    "        mapper = vtkFixedPointVolumeRayCastMapper()\n",
    "    else:\n",
    "        raise \"unexpected\"\n",
    "        \n",
    "    mapper.SetInputConnection(reader.GetOutputPort())\n",
    "    mapper.SetAutoAdjustSampleDistances(0)\n",
    "    mapper.SetSampleDistance(0.5)\n",
    "    mapper.SetMaskTypeToLabelMap()\n",
    "    mapper.SetMaskBlendFactor(0.7)\n",
    "    mapper.SetBlendModeToComposite()\n",
    "    \n",
    "    props = vtkVolumeProperty()\n",
    "    props.SetIndependentComponents(True) \n",
    "    props.ShadeOff()\n",
    "\n",
    "    if interpolation == \"linear\":\n",
    "        props.SetInterpolationTypeToLinear()\n",
    "    elif interpolation == 'nearest':\n",
    "        props.SetInterpolationTypeToNearest()\n",
    "    else:\n",
    "        raise \"unexpected\"\n",
    "\n",
    "    volume = vtkVolume()\n",
    "    volume.SetMapper(mapper)\n",
    "    volume.SetProperty(props)\n",
    "    \n",
    "    return volume"
   ]
  },
  {
   "cell_type": "code",
   "execution_count": 79,
   "metadata": {},
   "outputs": [],
   "source": [
    "reader_brain = vtkMetaImageReader()\n",
    "reader_brain.SetFileName(\"./data/BRATS_HG0015_T1C.mha\")\n",
    "reader_mask = vtkMetaImageReader()\n",
    "reader_mask.SetFileName(\"./data/mask.mha\")\n",
    "reader_mask.Update()"
   ]
  },
  {
   "cell_type": "code",
   "execution_count": 80,
   "metadata": {},
   "outputs": [],
   "source": [
    "volume = load_volume(reader_brain)\n",
    "volume_property = volume.GetProperty()\n",
    "volume_mapper = volume.GetMapper()"
   ]
  },
  {
   "cell_type": "code",
   "execution_count": 81,
   "metadata": {},
   "outputs": [],
   "source": [
    "data_min, data_max = reader_brain.GetOutput().GetScalarRange()\n",
    "\n",
    "seg_min, seg_max = 0, 0.6 * data_max\n",
    "fct_color_default = vtkColorTransferFunction()\n",
    "fct_color_default.AddRGBSegment(seg_min, *(0,0,0),\n",
    "                                seg_max, *(1,1,1))\n",
    "\n",
    "fct_color_mask = vtkColorTransferFunction()\n",
    "fct_color_mask.AddRGBSegment(seg_min, *(0,0,0),\n",
    "                             seg_max, *(1,0,0))   \n",
    "\n",
    "fct_opacity_default = vtkPiecewiseFunction()\n",
    "fct_opacity_default.AddSegment(seg_min, 0.,\n",
    "                               seg_max, 0.1)\n",
    "\n",
    "fct_opacity_mask = vtkPiecewiseFunction()\n",
    "fct_opacity_mask.AddSegment(seg_min, 0.,\n",
    "                            seg_max, 1.)\n",
    "\n",
    "volume_property.SetColor(fct_color_default)\n",
    "volume_property.SetScalarOpacity(fct_opacity_default)\n",
    "volume_property.SetLabelColor(1, fct_color_mask)\n",
    "volume_property.SetLabelScalarOpacity(1, fct_opacity_mask)"
   ]
  },
  {
   "cell_type": "code",
   "execution_count": 82,
   "metadata": {},
   "outputs": [],
   "source": [
    "volume_mapper.SetMaskInput(reader_mask.GetOutput())"
   ]
  },
  {
   "cell_type": "code",
   "execution_count": 83,
   "metadata": {},
   "outputs": [],
   "source": [
    "def AddSlider(interactor, value_range, x, y, length=0.25, title=\"\", default_value=None, callback=lambda x: _):\n",
    "    assert 0 <= x <= 1 and 0 <= y <= 1\n",
    "    def _cb(s, *args):\n",
    "        x = s.GetSliderRepresentation().GetValue()\n",
    "        callback(x)\n",
    "        \n",
    "    slider = vtkSliderRepresentation2D()\n",
    "    slider.SetMinimumValue(value_range[0])\n",
    "    slider.SetMaximumValue(value_range[-1])\n",
    "    slider.SetValue(value_range[0] if default_value is None else default_value)\n",
    "    slider.SetTitleText(title)\n",
    "    slider.ShowSliderLabelOn()\n",
    "    \n",
    "    slider.GetPoint1Coordinate().SetCoordinateSystemToNormalizedDisplay();\n",
    "    slider.GetPoint1Coordinate().SetValue(x, y);\n",
    "    slider.GetPoint2Coordinate().SetCoordinateSystemToNormalizedDisplay();\n",
    "    slider.GetPoint2Coordinate().SetValue(x + length, y);\n",
    "\n",
    "    sliderWidget = vtkSliderWidget()\n",
    "    sliderWidget.SetInteractor(interactor);\n",
    "    sliderWidget.SetRepresentation(slider);\n",
    "    sliderWidget.EnabledOn();\n",
    "    \n",
    "    sliderWidget.AddObserver(\"InteractionEvent\", _cb)\n",
    "    \n",
    "    return sliderWidget\n",
    "    \n",
    "def OnClose(interactor, event):\n",
    "    interactor.GetRenderWindow().Finalize()\n",
    "    interactor.TerminateApp()"
   ]
  },
  {
   "cell_type": "code",
   "execution_count": 85,
   "metadata": {},
   "outputs": [],
   "source": [
    "def cb_opacity_brain(x):\n",
    "    fct_opacity_default.AddSegment(seg_min, 0., seg_max, x)\n",
    "    \n",
    "def cb_opacity_mask(x):\n",
    "    volume_mapper.SetMaskBlendFactor(x)\n",
    "    \n",
    "ren = vtkRenderer()\n",
    "ren.AddVolume(volume)\n",
    "\n",
    "renWin = vtkRenderWindow()\n",
    "renWin.AddRenderer(ren)\n",
    "\n",
    "iren = vtkRenderWindowInteractor()\n",
    "iren.SetRenderWindow(renWin)\n",
    "\n",
    "iren.AddObserver('ExitEvent', OnClose)\n",
    "\n",
    "sl_0 = AddSlider(interactor=iren, value_range=(0, 1), x=0.7, y=0.35, title=\"Tumor Highlight\", default_value=0.7, callback=cb_opacity_mask)\n",
    "sl_1 = AddSlider(interactor=iren, value_range=(0, 1), x=0.7, y=0.15, title=\"Brain Opacity\", default_value=0.1, callback=cb_opacity_brain)\n",
    "\n",
    "iren.Initialize()\n",
    "renWin.Render()\n",
    "iren.Start()"
   ]
  },
  {
   "cell_type": "code",
   "execution_count": null,
   "metadata": {},
   "outputs": [],
   "source": []
  }
 ],
 "metadata": {
  "kernelspec": {
   "display_name": "itk",
   "language": "python",
   "name": "itk"
  },
  "language_info": {
   "codemirror_mode": {
    "name": "ipython",
    "version": 3
   },
   "file_extension": ".py",
   "mimetype": "text/x-python",
   "name": "python",
   "nbconvert_exporter": "python",
   "pygments_lexer": "ipython3",
   "version": "3.8.5"
  }
 },
 "nbformat": 4,
 "nbformat_minor": 4
}
