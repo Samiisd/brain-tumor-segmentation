{
 "cells": [
  {
   "cell_type": "markdown",
   "metadata": {},
   "source": [
    "# RECAL PROJECT ITK/VTK"
   ]
  },
  {
   "cell_type": "markdown",
   "metadata": {},
   "source": [
    "## Authors\n",
    "- Audran Doublet\n",
    "- Sami Issaadi"
   ]
  },
  {
   "cell_type": "markdown",
   "metadata": {},
   "source": [
    "## Demo\n",
    "![App Demo](./demo/demo.gif)"
   ]
  },
  {
   "cell_type": "markdown",
   "metadata": {},
   "source": [
    "## Description\n",
    "\n",
    "### Naive tumor segmentation with ITK\n",
    "The tumor(s) on the volume are big and round, so we can easily detect them without advanced segmentation procedures.\n",
    "We:\n",
    "- Binarize the image using intensity threshold (the tumor(s) have high intensity)\n",
    "- Labelize the different connected components\n",
    "- Filter the connected components (based on size, roundness, and size again)\n",
    "\n",
    "### Interactive UI\n",
    "We've added some sliders into the UI to update the followings:\n",
    "- Brain volume opacity\n",
    "- Tumor mask color intensity\n",
    "- Parameters of the connected components filters\n",
    "\n",
    "### Limits\n",
    "- There still are some blood vessels connected to the tumors -> they can probably be removed with a **morphological opening**\n",
    "- This approach won't work well for all brain tumors\n",
    "\n",
    "### Alternative approach we thought of\n",
    "We thought of displaying in one side the 3d volume, and on the other one, a 2d slices view.\n",
    "\n",
    "We would then require the user to click on the tumor on the 2d slice view, and we would thus get X, Z coordinates from the click and the Y coordinate from the current index of the slice.\n",
    "\n",
    "With the obtained 3D point, we could apply one of the **Region Growing** algorithms proposed by **ITK**, and update the mask on the 3d and 2d views.\n",
    "\n",
    "*However, laziness got us.*"
   ]
  },
  {
   "cell_type": "markdown",
   "metadata": {},
   "source": [
    "## The code"
   ]
  },
  {
   "cell_type": "code",
   "execution_count": 1,
   "metadata": {},
   "outputs": [],
   "source": [
    "from vtk import *\n",
    "import itk"
   ]
  },
  {
   "cell_type": "code",
   "execution_count": 2,
   "metadata": {},
   "outputs": [],
   "source": [
    "CST_PATH_IN_VOLUME = \"./data/BRATS_HG0015_T1C.mha\"\n",
    "CST_PATH_OUT_MASK = \"/tmp/_mask.mha\""
   ]
  },
  {
   "cell_type": "code",
   "execution_count": 3,
   "metadata": {},
   "outputs": [],
   "source": [
    "def morpho_filters(image, filters):\n",
    "    \"\"\"\n",
    "    Apply multiple filters on connected components\n",
    "    \"\"\"\n",
    "    history = [image]\n",
    "    for (attr, n, reverse) in filters:\n",
    "        history.append(itk.LabelShapeKeepNObjectsImageFilter.New(\n",
    "            Input=history[-1],\n",
    "            BackgroundValue=0,\n",
    "            NumberOfObjects=n,\n",
    "            Attribute=attr,\n",
    "            ReverseOrdering=reverse\n",
    "        ))\n",
    "    return history\n",
    "    \n",
    "def generate_mask(image, path_out=None):\n",
    "    # binarize the image (we did not know how to binarize it properly)\n",
    "    mask = itk.NotImageFilter(Input=image)\n",
    "    mask = itk.NotImageFilter(Input=mask)\n",
    "\n",
    "    converted = itk.CastImageFilter[itk.Image[itk.SS,3], itk.Image[itk.UC,3]].New(Input=mask)\n",
    "\n",
    "    result_im = itk.RescaleIntensityImageFilter.New(\n",
    "        Input=converted,\n",
    "        OutputMinimum=0,\n",
    "        OutputMaximum=1,\n",
    "    )\n",
    "    \n",
    "    if path_out:\n",
    "        writer = itk.ImageFileWriter.New(Input=result_im, FileName=path_out)\n",
    "        writer.Update()\n",
    "    else:\n",
    "        result_im.Update()\n",
    "    \n",
    "    return result_im"
   ]
  },
  {
   "cell_type": "markdown",
   "metadata": {},
   "source": [
    "### Load and binarize the image "
   ]
  },
  {
   "cell_type": "code",
   "execution_count": 4,
   "metadata": {},
   "outputs": [],
   "source": [
    "base_image = itk.ImageFileReader(FileName=CST_PATH_IN_VOLUME)\n",
    "\n",
    "rescaled = itk.RescaleIntensityImageFilter.New(\n",
    "    Input=base_image,\n",
    "    OutputMinimum=0,\n",
    "    OutputMaximum=255\n",
    ")\n",
    "\n",
    "binary_im = itk.ThresholdImageFilter.New(\n",
    "    Input=rescaled,\n",
    "    Lower=102,\n",
    ")\n",
    "\n",
    "cc = itk.ConnectedComponentImageFilter.New(\n",
    "    Input=binary_im,\n",
    ")"
   ]
  },
  {
   "cell_type": "markdown",
   "metadata": {},
   "source": [
    "### Define and apply connected components filters"
   ]
  },
  {
   "cell_type": "code",
   "execution_count": 5,
   "metadata": {},
   "outputs": [],
   "source": [
    "MORPHO_FILTERS = [\n",
    "    (\"NumberOfPixels\", 10, False),\n",
    "    (\"Flatness\", 5, True),\n",
    "    (\"NumberOfPixels\", 3, False),\n",
    "]\n",
    "\n",
    "cc_filters = morpho_filters(cc, filters=MORPHO_FILTERS)\n",
    "mask = generate_mask(cc_filters[-1], path_out=CST_PATH_OUT_MASK)"
   ]
  },
  {
   "cell_type": "code",
   "execution_count": 6,
   "metadata": {},
   "outputs": [],
   "source": [
    "from vtk import *\n",
    "import itk\n",
    "\n",
    "def _check_valid_arg(val, name, available):\n",
    "    if val not in available:\n",
    "        raise f\"{name}='{val}' is not a valid arg. Valid values are: {available}\"\n",
    "        \n",
    "def load_volume(reader, color=(1.,1.,1.), render_with=\"gl\", interpolation=\"linear\"):\n",
    "    _check_valid_arg(render_with, \"render_with\", {'gl', 'gpu', 'cpu'})\n",
    "    _check_valid_arg(interpolation, \"interpolation\", {'linear', 'nearest'})\n",
    "    \n",
    "    reader.Update()\n",
    "\n",
    "    if render_with == \"gl\":\n",
    "        mapper = vtkOpenGLGPUVolumeRayCastMapper()\n",
    "    elif render_with == 'gpu':\n",
    "        mapper = vtkGPUVolumeRayCastMapper() \n",
    "    elif render_with == 'cpu':\n",
    "        mapper = vtkFixedPointVolumeRayCastMapper()\n",
    "    else:\n",
    "        raise \"unexpected\"\n",
    "        \n",
    "    mapper.SetInputConnection(reader.GetOutputPort())\n",
    "    mapper.SetAutoAdjustSampleDistances(0)\n",
    "    mapper.SetSampleDistance(0.5)\n",
    "    mapper.SetMaskTypeToLabelMap()\n",
    "    mapper.SetMaskBlendFactor(0.7)\n",
    "    mapper.SetBlendModeToComposite()\n",
    "    \n",
    "    props = vtkVolumeProperty()\n",
    "    props.SetIndependentComponents(True) \n",
    "    props.ShadeOff()\n",
    "\n",
    "    if interpolation == \"linear\":\n",
    "        props.SetInterpolationTypeToLinear()\n",
    "    elif interpolation == 'nearest':\n",
    "        props.SetInterpolationTypeToNearest()\n",
    "    else:\n",
    "        raise \"unexpected\"\n",
    "\n",
    "    volume = vtkVolume()\n",
    "    volume.SetMapper(mapper)\n",
    "    volume.SetProperty(props)\n",
    "    \n",
    "    return volume"
   ]
  },
  {
   "cell_type": "markdown",
   "metadata": {},
   "source": [
    "### Load volumes and generated mask"
   ]
  },
  {
   "cell_type": "code",
   "execution_count": 7,
   "metadata": {},
   "outputs": [],
   "source": [
    "reader_brain = vtkMetaImageReader()\n",
    "reader_brain.SetFileName(CST_PATH_IN_VOLUME)\n",
    "reader_mask = vtkMetaImageReader()\n",
    "reader_mask.SetFileName(CST_PATH_OUT_MASK)\n",
    "reader_mask.Update()"
   ]
  },
  {
   "cell_type": "code",
   "execution_count": 8,
   "metadata": {},
   "outputs": [],
   "source": [
    "volume = load_volume(reader_brain)\n",
    "volume_property = volume.GetProperty()\n",
    "volume_mapper = volume.GetMapper()"
   ]
  },
  {
   "cell_type": "markdown",
   "metadata": {},
   "source": [
    "### Set brain rendering properties (color, opacity)"
   ]
  },
  {
   "cell_type": "code",
   "execution_count": 9,
   "metadata": {},
   "outputs": [],
   "source": [
    "data_min, data_max = reader_brain.GetOutput().GetScalarRange()\n",
    "\n",
    "seg_min, seg_max = 0, 0.6 * data_max\n",
    "fct_color_default = vtkColorTransferFunction()\n",
    "fct_color_default.AddRGBSegment(seg_min, *(0,0,0),\n",
    "                                seg_max, *(1,1,1))\n",
    "\n",
    "fct_color_mask = vtkColorTransferFunction()\n",
    "fct_color_mask.AddRGBSegment(seg_min, *(0,0,0),\n",
    "                             seg_max, *(1,0,0))   \n",
    "\n",
    "fct_opacity_default = vtkPiecewiseFunction()\n",
    "fct_opacity_default.AddSegment(seg_min, 0.,\n",
    "                               seg_max, 0.1)\n",
    "\n",
    "fct_opacity_mask = vtkPiecewiseFunction()\n",
    "fct_opacity_mask.AddSegment(seg_min, 0.,\n",
    "                            seg_max, 1.)\n",
    "\n",
    "volume_property.SetColor(fct_color_default)\n",
    "volume_property.SetScalarOpacity(fct_opacity_default)\n",
    "volume_property.SetLabelColor(1, fct_color_mask)\n",
    "volume_property.SetLabelScalarOpacity(1, fct_opacity_mask)"
   ]
  },
  {
   "cell_type": "code",
   "execution_count": 10,
   "metadata": {},
   "outputs": [],
   "source": [
    "# Apply generated mask\n",
    "volume_mapper.SetMaskInput(reader_mask.GetOutput())"
   ]
  },
  {
   "cell_type": "code",
   "execution_count": 11,
   "metadata": {},
   "outputs": [],
   "source": [
    "def AddSlider(interactor, value_range, x, y, length=0.25, title=\"\", default_value=None, callback=lambda x: _, integer_steps=False):\n",
    "    assert 0 <= x <= 1 and 0 <= y <= 1\n",
    "\n",
    "    def _cb(s, *args):\n",
    "        slider_representation = s.GetSliderRepresentation()\n",
    "        value = slider_representation.GetValue()\n",
    "        if integer_steps: \n",
    "            value = round(value)\n",
    "            slider_representation.SetValue(value)\n",
    "        callback(value)\n",
    "\n",
    "    # Set slider properties\n",
    "    slider = vtkSliderRepresentation2D()\n",
    "    slider.SetMinimumValue(value_range[0])\n",
    "    slider.SetMaximumValue(value_range[-1])\n",
    "    slider.SetValue(value_range[0] if default_value is None else default_value)\n",
    "    slider.SetTitleText(title)\n",
    "    slider.ShowSliderLabelOn()\n",
    "    slider.SetSliderWidth(0.03)\n",
    "    slider.SetSliderLength(0.0001)\n",
    "    slider.SetEndCapWidth(0)\n",
    "    slider.SetTitleHeight(0.02)\n",
    "    slider.SetTubeWidth(0.005)\n",
    "    \n",
    "    # Set the slider position\n",
    "    slider.GetPoint1Coordinate().SetCoordinateSystemToNormalizedDisplay();\n",
    "    slider.GetPoint1Coordinate().SetValue(x, y);\n",
    "    slider.GetPoint2Coordinate().SetCoordinateSystemToNormalizedDisplay();\n",
    "    slider.GetPoint2Coordinate().SetValue(x + length, y);\n",
    "\n",
    "    # Add the slider to the UI\n",
    "    sliderWidget = vtkSliderWidget()\n",
    "    sliderWidget.SetInteractor(interactor);\n",
    "    sliderWidget.SetRepresentation(slider);\n",
    "    sliderWidget.EnabledOn();\n",
    "    \n",
    "    # Add callback\n",
    "    sliderWidget.AddObserver(\"InteractionEvent\", _cb)\n",
    "    \n",
    "    return sliderWidget"
   ]
  },
  {
   "cell_type": "markdown",
   "metadata": {},
   "source": [
    "### Define UI callbacks"
   ]
  },
  {
   "cell_type": "code",
   "execution_count": 12,
   "metadata": {},
   "outputs": [],
   "source": [
    "def OnClose(interactor, event):\n",
    "    # Callback to correctly close the UI\n",
    "    interactor.GetRenderWindow().Finalize()\n",
    "    interactor.TerminateApp()\n",
    "    \n",
    "def cb_opacity_brain(x):\n",
    "    # Callback to update brain volume opacity\n",
    "    fct_opacity_default.AddSegment(seg_min, 0., seg_max, x)\n",
    "    \n",
    "def cb_opacity_mask(x):\n",
    "    # Callback to update mask opacity\n",
    "    volume_mapper.SetMaskBlendFactor(x)\n",
    "    \n",
    "def cb_morpho_filters(idx):\n",
    "    # Genreate callbacks to update the morpho filters\n",
    "    def cb(x):\n",
    "        attr, _, negate = MORPHO_FILTERS[idx]\n",
    "        MORPHO_FILTERS[idx] = (attr, x, negate)\n",
    "        \n",
    "        cc_filters = morpho_filters(cc, filters=MORPHO_FILTERS)\n",
    "\n",
    "        result_im = generate_mask(cc_filters[-1], CST_PATH_OUT_MASK)\n",
    "        reader_mask = vtkMetaImageReader()\n",
    "        reader_mask.SetFileName(CST_PATH_OUT_MASK)\n",
    "        reader_mask.Update()\n",
    "        volume_mapper.SetMaskInput(reader_mask.GetOutput())\n",
    "    return cb"
   ]
  },
  {
   "cell_type": "markdown",
   "metadata": {},
   "source": [
    "### Let the magic happen"
   ]
  },
  {
   "cell_type": "code",
   "execution_count": 13,
   "metadata": {},
   "outputs": [],
   "source": [
    "ren = vtkRenderer()\n",
    "ren.AddVolume(volume)\n",
    "\n",
    "renWin = vtkRenderWindow()\n",
    "renWin.AddRenderer(ren)\n",
    "\n",
    "iren = vtkRenderWindowInteractor()\n",
    "iren.SetRenderWindow(renWin)\n",
    "\n",
    "iren.AddObserver('ExitEvent', OnClose)\n",
    "\n",
    "# Add all UI sliders\n",
    "sl_0 = AddSlider(interactor=iren, value_range=(0, 1), x=0.7, y=0.15, title=\"Brain Opacity\", \n",
    "                 default_value=0.1, callback=cb_opacity_brain)\n",
    "sl_1 = AddSlider(interactor=iren, value_range=(0, 1), x=0.7, y=0.30, title=\"Tumor Highlight\", \n",
    "                 default_value=0.7, callback=cb_opacity_mask)\n",
    "\n",
    "sl_2 = AddSlider(interactor=iren, value_range=(0, 20), x=0.7, y=0.55, title=\"2. NB Final Components\", \n",
    "                 default_value=3, callback=cb_morpho_filters(2), integer_steps=True)\n",
    "sl_3 = AddSlider(interactor=iren, value_range=(1, 20), x=0.7, y=0.70, title=\"1. NB Bumpiest\", \n",
    "                 default_value=5, callback=cb_morpho_filters(1), integer_steps=True)\n",
    "sl_4 = AddSlider(interactor=iren, value_range=(1, 20), x=0.7, y=0.85, title=\"0. NB Biggest Components\", \n",
    "                 default_value=10, callback=cb_morpho_filters(0), integer_steps=True)\n",
    "\n",
    "\n",
    "# Launch the APP\n",
    "iren.Initialize()\n",
    "renWin.Render()\n",
    "iren.Start()"
   ]
  }
 ],
 "metadata": {
  "kernelspec": {
   "display_name": "Python 3",
   "language": "python",
   "name": "python3"
  },
  "language_info": {
   "codemirror_mode": {
    "name": "ipython",
    "version": 3
   },
   "file_extension": ".py",
   "mimetype": "text/x-python",
   "name": "python",
   "nbconvert_exporter": "python",
   "pygments_lexer": "ipython3",
   "version": "3.8.5"
  }
 },
 "nbformat": 4,
 "nbformat_minor": 4
}
